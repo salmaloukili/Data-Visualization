{
 "cells": [
  {
   "cell_type": "code",
   "execution_count": 8,
   "metadata": {},
   "outputs": [
    {
     "name": "stderr",
     "output_type": "stream",
     "text": [
      "<>:22: SyntaxWarning: \"is\" with a literal. Did you mean \"==\"?\n",
      "<>:22: SyntaxWarning: \"is\" with a literal. Did you mean \"==\"?\n",
      "/tmp/ipykernel_4502/1751361845.py:22: SyntaxWarning: \"is\" with a literal. Did you mean \"==\"?\n",
      "  data['Season'] = data['OrderDate'].dt.month.apply(lambda x: 'Winter' if x <= 2 or x is 12 else ('Spring' if x <= 5 else ('Summer' if x <= 8 else 'Autumn')))\n"
     ]
    }
   ],
   "source": [
    "import pandas as pd\n",
    "\n",
    "# Load the data\n",
    "orders = pd.read_csv('orders.csv')\n",
    "regions = pd.read_csv('regions.csv')\n",
    "\n",
    "# Merge the datasets\n",
    "data = pd.merge(orders, regions, on='Territory')\n",
    "\n",
    "# Convert 'OrderDate' and 'DeliveryDate' to datetime\n",
    "data['OrderDate'] = pd.to_datetime(data['OrderDate'])\n",
    "data['DeliveryDate'] = pd.to_datetime(data['DeliveryDate'])\n",
    "\n",
    "# Normalize quantities: split the 'Quantities' string and convert to integers, then sum them\n",
    "data['TotalQuantities'] = data['Quantities'].apply(lambda x: sum(int(q) for q in x.split(',')))\n",
    "\n",
    "# Calculate the delivery time in days before the aggregation\n",
    "data['DeliveryTimeDays'] = (data['DeliveryDate'] - data['OrderDate']).dt.days\n",
    "\n",
    "# Extract year and assign seasons\n",
    "data['Year'] = data['OrderDate'].dt.year\n",
    "data['Season'] = data['OrderDate'].dt.month.apply(lambda x: 'Winter' if x <= 2 or x is 12 else ('Spring' if x <= 5 else ('Summer' if x <= 8 else 'Autumn')))\n",
    "\n",
    "# Group by year and season\n",
    "grouped = data.groupby(['Year', 'Season'])\n",
    "\n",
    "# Aggregate data using pre-calculated 'DeliveryTimeDays' and 'TotalQuantities'\n",
    "summary = grouped.agg(\n",
    "    total_revenue=pd.NamedAgg(column='CartPriceInCP', aggfunc='sum'),\n",
    "    total_orders=pd.NamedAgg(column='OrderID', aggfunc='count'),\n",
    "    total_products=pd.NamedAgg(column='TotalQuantities', aggfunc='sum'),\n",
    "    average_delivery_time=pd.NamedAgg(column='DeliveryTimeDays', aggfunc='mean')\n",
    ")\n",
    "\n",
    "# Convert to JSON\n",
    "summary_json = summary.reset_index().to_json(orient='records')\n",
    "\n",
    "# Write JSON to a file\n",
    "with open('summary_data.json', 'w') as file:\n",
    "    file.write(summary_json)\n"
   ]
  }
 ],
 "metadata": {
  "kernelspec": {
   "display_name": "my_virtual_env",
   "language": "python",
   "name": "python3"
  },
  "language_info": {
   "codemirror_mode": {
    "name": "ipython",
    "version": 3
   },
   "file_extension": ".py",
   "mimetype": "text/x-python",
   "name": "python",
   "nbconvert_exporter": "python",
   "pygments_lexer": "ipython3",
   "version": "3.10.12"
  }
 },
 "nbformat": 4,
 "nbformat_minor": 2
}
